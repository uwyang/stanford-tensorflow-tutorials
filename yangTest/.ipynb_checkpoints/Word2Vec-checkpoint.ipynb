{
 "cells": [
  {
   "cell_type": "markdown",
   "metadata": {},
   "source": [
    "# Word to Vec"
   ]
  },
  {
   "cell_type": "code",
   "execution_count": 1,
   "metadata": {},
   "outputs": [],
   "source": [
    "from __future__ import absolute_import\n",
    "from __future__ import division\n",
    "from __future__ import print_function\n",
    "\n",
    "import os\n",
    "os.environ['TF_CPP_MIN_LOG_LEVEL']='2'\n",
    "\n",
    "import numpy as np\n",
    "import tensorflow as tf\n",
    "from tensorflow.contrib.tensorboard.plugins import projector\n",
    "\n",
    "from process_data import process_data"
   ]
  },
  {
   "cell_type": "code",
   "execution_count": 2,
   "metadata": {
    "collapsed": true
   },
   "outputs": [],
   "source": [
    "\n",
    "VOCAB_SIZE = 50000\n",
    "BATCH_SIZE = 128\n",
    "EMBED_SIZE = 128 # dimension of the word embedding vectors\n",
    "SKIP_WINDOW = 1 # the context window\n",
    "NUM_SAMPLED = 64    # Number of negative examples to sample.\n",
    "LEARNING_RATE = 1.0\n",
    "NUM_TRAIN_STEPS = 20000\n",
    "SKIP_STEP = 2000 # how many steps to skip before reporting the loss\n"
   ]
  },
  {
   "cell_type": "code",
   "execution_count": 3,
   "metadata": {},
   "outputs": [
    {
     "ename": "SyntaxError",
     "evalue": "invalid syntax (<ipython-input-3-b852d7af2887>, line 1)",
     "output_type": "error",
     "traceback": [
      "\u001b[0;36m  File \u001b[0;32m\"<ipython-input-3-b852d7af2887>\"\u001b[0;36m, line \u001b[0;32m1\u001b[0m\n\u001b[0;31m    def word2vec('batch_gen'):\u001b[0m\n\u001b[0m                           ^\u001b[0m\n\u001b[0;31mSyntaxError\u001b[0m\u001b[0;31m:\u001b[0m invalid syntax\n"
     ]
    }
   ],
   "source": [
    "def word2vec(batch_gen):\n",
    "    with tf.name_scope(data): \n",
    "        center_words = tf.placeholder(tf.int32, shape = [BATCH_SIZE], name = \"center_words\")\n",
    "        target_words = tf.placeholder(tf.int32, shape = [BATCH_SIZE, 1], name = \"target_words\")\n",
    "    \n",
    "    with tf.name_scope('embedding_matrix'):\n",
    "        embed_matrix = tf.Variable(tf.random_uniform([VOCAB_SIZE, EMBED_SIZE], -1.0, 1.0), \n",
    "                            name='embed_matrix')\n",
    "    with tf.name_scope('loss'): \n",
    "        # Looks up ids in a list of embedding tensors.\n",
    "        #embedding_lookup function retrieves rows of the params tensor. \n",
    "        #The behavior is similar to using indexing with arrays in numpy. E.g.\n",
    "        #tf.nn.embedding_lookup(params, ids, partition_strategy='mod', name=None)\n",
    "        #matrix = np.random.random([1024, 64])  # 64-dimensional embeddings\n",
    "        #ids = np.array([0, 5, 17, 33])\n",
    "        #print matrix[ids]  # prints a matrix of shape [4, 64] \n",
    "        embed = tf.nn.embedding_lookup(embed_matrix, center_words, name='embed')\n",
    "        \n",
    "        nce_weight = tf.Variable(tf.truncated_normal([VOCAB_SIZE, EMBED_SIZE],\n",
    "                                                    stddev=1.0 / (EMBED_SIZE ** 0.5)), \n",
    "                                                    name='nce_weight')\n",
    "        nce_bias = tf.Variable(tf.zeros([VOCAB_SIZE]), name='nce_bias')\n",
    "        # define loss function to be NCE loss function\n",
    "        loss = tf.reduce_mean(tf.nn.nce_loss(weights=nce_weight, \n",
    "                                            biases=nce_bias, \n",
    "                                            labels=target_words, \n",
    "                                            inputs=embed, \n",
    "                                            num_sampled=NUM_SAMPLED, \n",
    "                                            num_classes=VOCAB_SIZE), name='loss')\n",
    "\n",
    "        "
   ]
  },
  {
   "cell_type": "code",
   "execution_count": null,
   "metadata": {
    "collapsed": true
   },
   "outputs": [],
   "source": []
  }
 ],
 "metadata": {
  "kernelspec": {
   "display_name": "Python 3",
   "language": "python",
   "name": "python3"
  },
  "language_info": {
   "codemirror_mode": {
    "name": "ipython",
    "version": 3
   },
   "file_extension": ".py",
   "mimetype": "text/x-python",
   "name": "python",
   "nbconvert_exporter": "python",
   "pygments_lexer": "ipython3",
   "version": "3.6.1"
  }
 },
 "nbformat": 4,
 "nbformat_minor": 2
}
