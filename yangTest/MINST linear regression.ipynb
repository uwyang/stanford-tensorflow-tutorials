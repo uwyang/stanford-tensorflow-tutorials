{
 "cells": [
  {
   "cell_type": "markdown",
   "metadata": {},
   "source": [
    "# linear regression and MINST. super simple stuff. "
   ]
  },
  {
   "cell_type": "code",
   "execution_count": 22,
   "metadata": {
    "collapsed": true
   },
   "outputs": [],
   "source": [
    "import os\n",
    "os.environ['TF_CPP_MIN_LOG_LEVEL']='2'\n",
    "import time\n",
    "\n",
    "from tensorflow.examples.tutorials.mnist import input_data\n",
    "\n",
    "import numpy as np\n",
    "import matplotlib.pyplot as plt\n",
    "import tensorflow as tf\n",
    "import xlrd\n",
    "\n",
    "import utils"
   ]
  },
  {
   "cell_type": "code",
   "execution_count": 17,
   "metadata": {
    "collapsed": true
   },
   "outputs": [],
   "source": [
    "# Define paramaters for the model\n",
    "learning_rate = 0.01\n",
    "batch_size = 128\n",
    "n_epochs = 30"
   ]
  },
  {
   "cell_type": "code",
   "execution_count": 35,
   "metadata": {
    "collapsed": false
   },
   "outputs": [],
   "source": [
    "\n",
    "X = tf.placeholder(tf.float32, [batch_size, 784], name = 'image')\n",
    "# Y: one hot label. \n",
    "Y = tf.placeholder(tf.int32, [batch_size, 10], name = 'label')"
   ]
  },
  {
   "cell_type": "code",
   "execution_count": 36,
   "metadata": {
    "collapsed": false
   },
   "outputs": [
    {
     "name": "stdout",
     "output_type": "stream",
     "text": [
      "Extracting ./MINST_data/train-images-idx3-ubyte.gz\n",
      "Extracting ./MINST_data/train-labels-idx1-ubyte.gz\n",
      "Extracting ./MINST_data/t10k-images-idx3-ubyte.gz\n",
      "Extracting ./MINST_data/t10k-labels-idx1-ubyte.gz\n"
     ]
    }
   ],
   "source": [
    "from tensorflow.examples.tutorials.mnist import input_data\n",
    "MNIST = input_data.read_data_sets(\"./MINST_data\", one_hot=True)"
   ]
  },
  {
   "cell_type": "code",
   "execution_count": 37,
   "metadata": {
    "collapsed": false
   },
   "outputs": [],
   "source": [
    "W = tf.Variable(tf.random_normal(shape=[784, 10], stddev= 0.01), name = \"W\")\n",
    "b = tf.Variable(tf.zeros([1, 10]), name = \"b\")"
   ]
  },
  {
   "cell_type": "code",
   "execution_count": 38,
   "metadata": {
    "collapsed": false
   },
   "outputs": [],
   "source": [
    "logits = tf.matmul(X, W) +  b"
   ]
  },
  {
   "cell_type": "code",
   "execution_count": 39,
   "metadata": {
    "collapsed": true
   },
   "outputs": [],
   "source": [
    "entropy = tf.nn.softmax_cross_entropy_with_logits(logits=logits, labels=Y, name='loss')"
   ]
  },
  {
   "cell_type": "code",
   "execution_count": 40,
   "metadata": {
    "collapsed": true
   },
   "outputs": [],
   "source": [
    "loss = tf.reduce_mean(entropy)"
   ]
  },
  {
   "cell_type": "code",
   "execution_count": 41,
   "metadata": {
    "collapsed": false
   },
   "outputs": [],
   "source": [
    "optimizer = tf.train.AdamOptimizer(learning_rate).minimize(loss)"
   ]
  },
  {
   "cell_type": "code",
   "execution_count": 71,
   "metadata": {
    "collapsed": false
   },
   "outputs": [
    {
     "name": "stdout",
     "output_type": "stream",
     "text": [
      "Average loss epoch 0: 0.3629586344068145\n",
      "Average loss epoch 1: 0.2963967422296951\n",
      "Average loss epoch 2: 0.2793824240947381\n",
      "Average loss epoch 3: 0.27897683756821084\n",
      "Average loss epoch 4: 0.2765777798104675\n",
      "Average loss epoch 5: 0.2707840207712356\n",
      "Average loss epoch 6: 0.2701957514097085\n",
      "Average loss epoch 7: 0.2684164192953032\n",
      "Average loss epoch 8: 0.2711645918778884\n",
      "Average loss epoch 9: 0.2651021256521865\n",
      "Average loss epoch 10: 0.2584114065762861\n",
      "Average loss epoch 11: 0.2658945233116061\n",
      "Average loss epoch 12: 0.2633008666527577\n",
      "Average loss epoch 13: 0.2620736785180919\n",
      "Average loss epoch 14: 0.26094242463231365\n",
      "Average loss epoch 15: 0.261121282922777\n",
      "Average loss epoch 16: 0.25812982939756834\n",
      "Average loss epoch 17: 0.25734843544679364\n",
      "Average loss epoch 18: 0.2565632551595881\n",
      "Average loss epoch 19: 0.2584956015844445\n",
      "Average loss epoch 20: 0.2577275769450726\n",
      "Average loss epoch 21: 0.25375183685606734\n",
      "Average loss epoch 22: 0.24909208631598867\n",
      "Average loss epoch 23: 0.2598832557390342\n",
      "Average loss epoch 24: 0.25106603080853995\n",
      "Average loss epoch 25: 0.25692119687309356\n",
      "Average loss epoch 26: 0.2520227550175084\n",
      "Average loss epoch 27: 0.25373550464501193\n",
      "Average loss epoch 28: 0.2543754461970363\n",
      "Average loss epoch 29: 0.25071026956215325\n",
      "Total time: 19.055201292037964 seconds\n",
      "Optimization Finished!\n"
     ]
    }
   ],
   "source": [
    "sess = tf.Session(); \n",
    "\n",
    "writer = tf.summary.FileWriter('./graphs/MINST_reg/', sess.graph)\n",
    "\n",
    "startTime = time.time()\n",
    "sess.run(tf.global_variables_initializer())\n",
    "n_batches = int(MNIST.train.num_examples/batch_size)\n",
    "for i in range(n_epochs): \n",
    "    totalLoss = 0\n",
    "    for _ in range(n_batches):\n",
    "        X_batch, Y_batch = MNIST.train.next_batch(batch_size)\n",
    "        _, loss_batch = sess.run([optimizer, loss], feed_dict={X: X_batch, Y:Y_batch})\n",
    "        totalLoss += loss_batch\n",
    "    print('Average loss epoch {0}: {1}'.format(i, totalLoss/n_batches))\n",
    "print('Total time: {0} seconds'.format(time.time() - startTime))\n",
    "print('Optimization Finished!')\n",
    "\n",
    "\n",
    "\n",
    "\n",
    "    \n",
    "    "
   ]
  },
  {
   "cell_type": "code",
   "execution_count": null,
   "metadata": {
    "collapsed": false
   },
   "outputs": [],
   "source": []
  },
  {
   "cell_type": "code",
   "execution_count": 72,
   "metadata": {
    "collapsed": false
   },
   "outputs": [
    {
     "name": "stdout",
     "output_type": "stream",
     "text": [
      "Accuracy 0.9191\n"
     ]
    }
   ],
   "source": [
    "\n",
    "writer = tf.summary.FileWriter('./graphs/MINST_reg/', sess.graph)\n",
    "preds = tf.nn.softmax(logits)\n",
    "correct_preds = tf.equal(tf.argmax(preds, 1), tf.argmax(Y, 1))\n",
    "accuracy = tf.reduce_sum(tf.cast(correct_preds, tf.float32)) # need numpy.count_nonzero(boolarr) :(\n",
    "\n",
    "n_batches = int(MNIST.test.num_examples/batch_size)\n",
    "total_correct_preds = 0\n",
    "\n",
    "for i in range(n_batches):\n",
    "    X_batch, Y_batch = MNIST.test.next_batch(batch_size)\n",
    "    accuracy_batch = sess.run([accuracy], feed_dict={X: X_batch, Y:Y_batch}) \n",
    "    total_correct_preds =  total_correct_preds + accuracy_batch[0]\n",
    "\n",
    "print('Accuracy {0}'.format(total_correct_preds/MNIST.test.num_examples))\n",
    "\n",
    "writer.close()\n",
    "    "
   ]
  },
  {
   "cell_type": "code",
   "execution_count": null,
   "metadata": {
    "collapsed": false
   },
   "outputs": [],
   "source": []
  },
  {
   "cell_type": "code",
   "execution_count": null,
   "metadata": {
    "collapsed": false
   },
   "outputs": [],
   "source": []
  },
  {
   "cell_type": "code",
   "execution_count": null,
   "metadata": {
    "collapsed": true
   },
   "outputs": [],
   "source": []
  }
 ],
 "metadata": {
  "kernelspec": {
   "display_name": "tensorflow35",
   "language": "python",
   "name": "tensorflow35"
  },
  "language_info": {
   "codemirror_mode": {
    "name": "ipython",
    "version": 3
   },
   "file_extension": ".py",
   "mimetype": "text/x-python",
   "name": "python",
   "nbconvert_exporter": "python",
   "pygments_lexer": "ipython3",
   "version": "3.5.3"
  }
 },
 "nbformat": 4,
 "nbformat_minor": 2
}
